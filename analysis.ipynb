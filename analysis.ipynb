{
 "cells": [
  {
   "cell_type": "code",
   "execution_count": 73,
   "metadata": {},
   "outputs": [
    {
     "name": "stdout",
     "output_type": "stream",
     "text": [
      "[748, 987, 988, 1025, 1123]\n",
      "[]\n",
      "[]\n",
      "[748, 987, 988, 1025, 1123]\n",
      "[748, 987, 988, 1025, 1123, 1432]\n",
      "[748, 987, 988, 1025, 1123, 1432, 150]\n",
      "[748, 987, 988, 1025, 1123, 1432, 150, 23, 645, 769]\n"
     ]
    }
   ],
   "source": [
    "import math\n",
    "import pandas as pd\n",
    "\n",
    "# CSVデータを読み込む\n",
    "df_seattle = pd.read_csv('./data/seattle_weather.csv')\n",
    "df_abashiri = pd.read_csv('./data/abashiri_weather.csv')\n",
    "df_takada = pd.read_csv('./data/takada_weather.csv')\n",
    "df_maebashi = pd.read_csv('./data/maebashi_weather.csv')\n",
    "df_takamatsu = pd.read_csv('./data/takamatsu_weather.csv')\n",
    "df_chiba = pd.read_csv('./data/chiba_weather.csv')\n",
    "''' \n",
    "列名を変更する\n",
    "・ダウンロードしたファイルにはなぜか降水量の合計が2つあるので、片っぽはunknownとした\n",
    "・同じ項目を選択してダウンロードしても順番がなぜか入れ替わっていたりするので、ここでそれに合わせてカラム名を修正する。\n",
    "'''\n",
    "df_abashiri.columns = ['date', 'temp_min', 'precipitation', 'unknown', 'wind', 'weather', 'temp_max']\n",
    "df_takada.columns = ['date', 'temp_min', 'precipitation', 'unknown', 'wind', 'weather', 'temp_max']\n",
    "df_maebashi.columns = ['date', 'temp_min', 'precipitation', 'unknown', 'wind', 'weather', 'temp_max']\n",
    "df_takamatsu.columns = ['date', 'temp_min', 'precipitation', 'unknown', 'wind', 'weather', 'temp_max']\n",
    "df_chiba.columns = ['date', 'temp_min', 'precipitation', 'unknown', 'wind', 'weather', 'temp_max']\n",
    "# 不要な列を削除する\n",
    "df_seattle = df_seattle.drop(['weather'], axis=1)\n",
    "df_abashiri = df_abashiri.drop(['unknown','weather'], axis=1)\n",
    "df_takada = df_takada.drop(['unknown','weather'], axis=1)\n",
    "df_maebashi= df_maebashi.drop(['unknown','weather'], axis=1)\n",
    "df_takamatsu = df_takamatsu.drop(['unknown','weather'], axis=1)\n",
    "df_chiba = df_chiba.drop(['unknown','weather'], axis=1)\n",
    "# 日付の形式を変更する\n",
    "df_abashiri['date'] = pd.to_datetime(df_abashiri['date']).dt.strftime('%Y-%m-%d')\n",
    "df_takada['date'] = pd.to_datetime(df_takada['date']).dt.strftime('%Y-%m-%d')\n",
    "df_maebashi['date'] = pd.to_datetime(df_maebashi['date']).dt.strftime('%Y-%m-%d')\n",
    "df_takamatsu['date'] = pd.to_datetime(df_takamatsu['date']).dt.strftime('%Y-%m-%d')\n",
    "df_chiba['date'] = pd.to_datetime(df_chiba['date']).dt.strftime('%Y-%m-%d')\n",
    "# CSVデータとして出力する\n",
    "df_seattle.to_csv('./data/seattle_weather_edited.csv', index=False)\n",
    "df_abashiri.to_csv('./data/abashiri_weather_edited.csv', index=False)\n",
    "df_takada.to_csv('./data/takada_weather_edited.csv', index=False)\n",
    "df_maebashi.to_csv('./data/maebashi_weather_edited.csv', index=False)\n",
    "df_takamatsu.to_csv('./data/takamatsu_weather_edited.csv', index=False)\n",
    "df_chiba.to_csv('./data/chiba_weather_edited.csv', index=False)\n",
    "# 平均気温のカラムを追加する\n",
    "df_seattle['temp_avg'] = (df_seattle['temp_max'] + df_seattle['temp_min']) // 2\n",
    "df_abashiri['temp_avg'] = (df_abashiri['temp_max'] + df_abashiri['temp_min']) // 2\n",
    "df_takada['temp_avg'] = (df_takada['temp_max'] + df_takada['temp_min']) // 2\n",
    "df_maebashi['temp_avg'] = (df_maebashi['temp_max'] + df_maebashi['temp_min']) // 2\n",
    "df_takamatsu['temp_avg'] = (df_takamatsu['temp_max'] + df_takamatsu['temp_min']) // 2\n",
    "df_chiba['temp_avg'] = (df_chiba['temp_max'] + df_chiba['temp_min']) // 2\n",
    "# 欠損値のある行を削除\n",
    "missing_rows:list[int]=[]\n",
    "def getNullRecord(df:pd.DataFrame)->list[int]:\n",
    "    indexes:list[int]=[]\n",
    "    i=0\n",
    "    for colmn_name,record in df.iterrows():\n",
    "        if math.isnan(record['temp_avg']) or math.isnan(record['precipitation']) or math.isnan(record['wind']):\n",
    "            indexes.append(i)\n",
    "        else:\n",
    "            pass\n",
    "        i+=1\n",
    "    return indexes\n",
    "print(getNullRecord(df_takada))\n",
    "missing_rows+=getNullRecord(df_seattle)\n",
    "print(missing_rows)\n",
    "missing_rows+= getNullRecord(df_abashiri)\n",
    "print(missing_rows)\n",
    "missing_rows+= getNullRecord(df_takada)\n",
    "print(missing_rows)\n",
    "missing_rows+= getNullRecord(df_maebashi)\n",
    "print(missing_rows)\n",
    "missing_rows+= getNullRecord(df_takamatsu)\n",
    "print(missing_rows)\n",
    "missing_rows+= getNullRecord(df_chiba)\n",
    "print(missing_rows)\n",
    "df_seattle = df_seattle.drop(missing_rows)\n",
    "df_abashiri = df_abashiri.drop(missing_rows)\n",
    "df_takada = df_takada.drop(missing_rows)\n",
    "df_maebashi = df_maebashi.drop(missing_rows)\n",
    "df_takamatsu = df_takamatsu.drop(missing_rows)\n",
    "df_chiba = df_chiba.drop(missing_rows)"
   ]
  },
  {
   "cell_type": "code",
   "execution_count": 74,
   "metadata": {},
   "outputs": [
    {
     "name": "stdout",
     "output_type": "stream",
     "text": [
      "網走\n",
      "0.8202087186602438\n",
      "0.1977563024337905\n",
      "0.8322177267351862\n",
      "1.8501827478292205\n"
     ]
    },
    {
     "data": {
      "image/png": "[encoded data removed]",
      "text/plain": [
       "<Figure size 640x480 with 1 Axes>"
      ]
     },
     "metadata": {},
     "output_type": "display_data"
    }
   ],
   "source": [
    "\n",
    "import pandas as pd\n",
    "import matplotlib.pyplot as plt\n",
    "from matplotlib import mlab\n",
    "from scipy.spatial.distance import euclidean\n",
    "\n",
    "print(\"網走\")\n",
    "# 相互相関コレログラム（原系列）\n",
    "temp_xcor = plt.xcorr(df_abashiri['temp_avg'], \n",
    "                       df_seattle['temp_avg'],\n",
    "                       detrend=mlab.detrend_none, \n",
    "                       maxlags=466)\n",
    "print(max(temp_xcor[1]))\n",
    "# 相互相関コレログラム（原系列）\n",
    "precipitation_xcor = plt.xcorr(df_abashiri['precipitation'], \n",
    "                       df_seattle['precipitation'],\n",
    "                       detrend=mlab.detrend_none, \n",
    "                       maxlags=466)\n",
    "print(max(precipitation_xcor[1]))\n",
    "# 相互相関コレログラム（原系列）\n",
    "wind_xcor = plt.xcorr(df_abashiri['wind'], \n",
    "                       df_seattle['wind'],\n",
    "                       detrend=mlab.detrend_none,\n",
    "                       maxlags=466)\n",
    "print(max(wind_xcor[1]))\n",
    "print(max(temp_xcor[1])+max(precipitation_xcor[1])+max(wind_xcor[1]))\n",
    "#plt.show()"
   ]
  },
  {
   "cell_type": "code",
   "execution_count": 76,
   "metadata": {},
   "outputs": [
    {
     "name": "stdout",
     "output_type": "stream",
     "text": [
      "高田\n",
      "0.9562035212913084\n",
      "0.3125130314411185\n",
      "0.8511115462371462\n",
      "2.119828098969573\n"
     ]
    },
    {
     "data": {
      "image/png": "[encoded data removed]",
      "text/plain": [
       "<Figure size 640x480 with 1 Axes>"
      ]
     },
     "metadata": {},
     "output_type": "display_data"
    }
   ],
   "source": [
    "import matplotlib.pyplot as plt\n",
    "from matplotlib import mlab\n",
    "from scipy.spatial.distance import euclidean\n",
    "print(\"高田\")\n",
    "# 相互相関コレログラム（原系列）\n",
    "temp_xcor = plt.xcorr(df_takada['temp_avg'], \n",
    "                       df_seattle['temp_avg'],\n",
    "                       detrend=mlab.detrend_none, \n",
    "                       maxlags=466)\n",
    "print(max(temp_xcor[1]))\n",
    "# 相互相関コレログラム（原系列）\n",
    "precipitation_xcor = plt.xcorr(df_takada['precipitation'], \n",
    "                       df_seattle['precipitation'],\n",
    "                       detrend=mlab.detrend_none, \n",
    "                       maxlags=466)\n",
    "print(max(precipitation_xcor[1]))\n",
    "# 相互相関コレログラム（原系列）\n",
    "wind_xcor = plt.xcorr(df_takada['wind'], \n",
    "                       df_seattle['wind'],\n",
    "                       detrend=mlab.detrend_none,\n",
    "                       maxlags=466)\n",
    "print(max(wind_xcor[1]))\n",
    "print(max(temp_xcor[1])+max(precipitation_xcor[1])+max(wind_xcor[1]))"
   ]
  },
  {
   "cell_type": "code",
   "execution_count": 78,
   "metadata": {},
   "outputs": [
    {
     "name": "stdout",
     "output_type": "stream",
     "text": [
      "前橋\n",
      "0.9648255893348755\n",
      "0.20100893180974508\n",
      "0.8771699629657609\n",
      "2.0430044841103814\n"
     ]
    },
    {
     "data": {
      "image/png": "[encoded data removed]",
      "text/plain": [
       "<Figure size 640x480 with 1 Axes>"
      ]
     },
     "metadata": {},
     "output_type": "display_data"
    }
   ],
   "source": [
    "import matplotlib.pyplot as plt\n",
    "from matplotlib import mlab\n",
    "from scipy.spatial.distance import euclidean\n",
    "print(\"前橋\")\n",
    "# 相互相関コレログラム（原系列）\n",
    "temp_xcor = plt.xcorr(df_maebashi['temp_avg'], \n",
    "                       df_seattle['temp_avg'],\n",
    "                       detrend=mlab.detrend_none, \n",
    "                       maxlags=466)\n",
    "print(max(temp_xcor[1]))\n",
    "# 相互相関コレログラム（原系列）\n",
    "precipitation_xcor = plt.xcorr(df_maebashi['precipitation'], \n",
    "                       df_seattle['precipitation'],\n",
    "                       detrend=mlab.detrend_none, \n",
    "                       maxlags=466)\n",
    "print(max(precipitation_xcor[1]))\n",
    "# 相互相関コレログラム（原系列）\n",
    "wind_xcor = plt.xcorr(df_maebashi['wind'], \n",
    "                       df_seattle['wind'],\n",
    "                       detrend=mlab.detrend_none,\n",
    "                       maxlags=466)\n",
    "print(max(wind_xcor[1]))\n",
    "print(max(temp_xcor[1])+max(precipitation_xcor[1])+max(wind_xcor[1]))"
   ]
  },
  {
   "cell_type": "code",
   "execution_count": 79,
   "metadata": {},
   "outputs": [
    {
     "name": "stdout",
     "output_type": "stream",
     "text": [
      "高松\n",
      "0.970189291915076\n",
      "0.2134750860608304\n",
      "0.844553773218645\n",
      "2.0282181511945514\n"
     ]
    },
    {
     "data": {
      "image/png": "[encoded data removed]",
      "text/plain": [
       "<Figure size 640x480 with 1 Axes>"
      ]
     },
     "metadata": {},
     "output_type": "display_data"
    }
   ],
   "source": [
    "import matplotlib.pyplot as plt\n",
    "from matplotlib import mlab\n",
    "from scipy.spatial.distance import euclidean\n",
    "print(\"高松\")\n",
    "# 相互相関コレログラム（原系列）\n",
    "temp_xcor = plt.xcorr(df_takamatsu['temp_avg'], \n",
    "                       df_seattle['temp_avg'],\n",
    "                       detrend=mlab.detrend_none, \n",
    "                       maxlags=466)\n",
    "print(max(temp_xcor[1]))\n",
    "# 相互相関コレログラム（原系列）\n",
    "precipitation_xcor = plt.xcorr(df_takamatsu['precipitation'], \n",
    "                       df_seattle['precipitation'],\n",
    "                       detrend=mlab.detrend_none, \n",
    "                       maxlags=466)\n",
    "print(max(precipitation_xcor[1]))\n",
    "# 相互相関コレログラム（原系列）\n",
    "wind_xcor = plt.xcorr(df_takamatsu['wind'], \n",
    "                       df_seattle['wind'],\n",
    "                       detrend=mlab.detrend_none,\n",
    "                       maxlags=466)\n",
    "print(max(wind_xcor[1]))\n",
    "print(max(temp_xcor[1])+max(precipitation_xcor[1])+max(wind_xcor[1]))"
   ]
  },
  {
   "cell_type": "code",
   "execution_count": 80,
   "metadata": {},
   "outputs": [
    {
     "name": "stdout",
     "output_type": "stream",
     "text": [
      "千葉\n",
      "0.9704692355470458\n",
      "0.19263933890396054\n",
      "0.8437445707581457\n",
      "2.006853145209152\n"
     ]
    },
    {
     "data": {
      "image/png": "[encoded data removed]",
      "text/plain": [
       "<Figure size 640x480 with 1 Axes>"
      ]
     },
     "metadata": {},
     "output_type": "display_data"
    }
   ],
   "source": [
    "import matplotlib.pyplot as plt\n",
    "from matplotlib import mlab\n",
    "from scipy.spatial.distance import euclidean\n",
    "print(\"千葉\")\n",
    "# 相互相関コレログラム（原系列）\n",
    "temp_xcor = plt.xcorr(df_chiba['temp_avg'], \n",
    "                       df_seattle['temp_avg'],\n",
    "                       detrend=mlab.detrend_none, \n",
    "                       maxlags=466)\n",
    "print(max(temp_xcor[1]))\n",
    "# 相互相関コレログラム（原系列）\n",
    "precipitation_xcor = plt.xcorr(df_chiba['precipitation'], \n",
    "                       df_seattle['precipitation'],\n",
    "                       detrend=mlab.detrend_none, \n",
    "                       maxlags=466)\n",
    "print(max(precipitation_xcor[1]))\n",
    "# 相互相関コレログラム（原系列）\n",
    "wind_xcor = plt.xcorr(df_chiba['wind'], \n",
    "                       df_seattle['wind'],\n",
    "                       detrend=mlab.detrend_none,\n",
    "                       maxlags=466)\n",
    "print(max(wind_xcor[1]))\n",
    "print(max(temp_xcor[1])+max(precipitation_xcor[1])+max(wind_xcor[1]))"
   ]
  },
  {
   "cell_type": "code",
   "execution_count": null,
   "metadata": {},
   "outputs": [],
   "source": []
  }
 ],
 "metadata": {
  "kernelspec": {
   "display_name": "base",
   "language": "python",
   "name": "python3"
  },
  "language_info": {
   "codemirror_mode": {
    "name": "ipython",
    "version": 3
   },
   "file_extension": ".py",
   "mimetype": "text/x-python",
   "name": "python",
   "nbconvert_exporter": "python",
   "pygments_lexer": "ipython3",
   "version": "3.11.5"
  }
 },
 "nbformat": 4,
 "nbformat_minor": 2
}
