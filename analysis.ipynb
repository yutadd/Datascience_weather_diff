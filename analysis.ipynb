{
 "cells": [
  {
   "cell_type": "markdown",
   "metadata": {},
   "source": [
    "### 前処理（ファイルフォーマットの統一）\n",
    "なお天候は基準が明確でなく、記載する天候の種類も違うため使用しない"
   ]
  },
  {
   "cell_type": "code",
   "execution_count": 7,
   "metadata": {},
   "outputs": [],
   "source": [
    "import pandas as pd\n",
    "\n",
    "# CSVデータを読み込む\n",
    "df = pd.read_csv('./data/akita-weather.csv')\n",
    "\n",
    "# 列名を変更する\n",
    "df.columns = ['date', 'temp_max', 'temp_min', 'precipitation', 'unknown', 'wind', 'weather']\n",
    "\n",
    "# 不要な列を削除する\n",
    "df = df.drop(['unknown','weather'], axis=1)\n",
    "\n",
    "\n",
    "# 日付の形式を変更する\n",
    "df['date'] = pd.to_datetime(df['date']).dt.strftime('%Y-%m-%d')\n",
    "\n",
    "# CSVデータとして出力する\n",
    "df.to_csv('./data/akita-weather-edited.csv', index=False)\n",
    "\n",
    "# CSVデータを読み込む\n",
    "df = pd.read_csv('./data/seattle-weather.csv')\n",
    "\n",
    "# 不要な列を削除する\n",
    "df = df.drop(['weather'], axis=1)\n",
    "# CSVデータとして出力する\n",
    "df.to_csv('./data/seattle-weather-edited.csv', index=False)"
   ]
  },
  {
   "cell_type": "code",
   "execution_count": null,
   "metadata": {},
   "outputs": [],
   "source": []
  }
 ],
 "metadata": {
  "kernelspec": {
   "display_name": "base",
   "language": "python",
   "name": "python3"
  },
  "language_info": {
   "codemirror_mode": {
    "name": "ipython",
    "version": 3
   },
   "file_extension": ".py",
   "mimetype": "text/x-python",
   "name": "python",
   "nbconvert_exporter": "python",
   "pygments_lexer": "ipython3",
   "version": "3.11.5"
  }
 },
 "nbformat": 4,
 "nbformat_minor": 2
}
